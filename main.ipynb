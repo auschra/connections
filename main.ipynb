{
 "cells": [
  {
   "cell_type": "code",
   "execution_count": 1,
   "metadata": {},
   "outputs": [],
   "source": [
    "from selenium import webdriver\n",
    "from selenium.webdriver.chrome.options import Options\n",
    "from selenium.webdriver.common.keys import Keys\n",
    "from selenium.webdriver.common.by import By\n",
    "from selenium.webdriver.support.ui import WebDriverWait\n",
    "from selenium.webdriver.support import expected_conditions as EC\n",
    "from selenium.common.exceptions import TimeoutException, ElementClickInterceptedException\n",
    "import pickle\n",
    "import pandas as pd\n",
    "\n",
    "import time\n",
    "from bs4 import BeautifulSoup\n",
    "import requests\n",
    "import json\n",
    "import re\n",
    "import tiktoken\n",
    "import torch\n",
    "import torch.nn.functional as F\n",
    "\n",
    "from gensim.models import Word2Vec\n",
    "import gensim\n",
    "import gensim.downloader as api\n",
    "from itertools import combinations\n",
    "\n",
    "from datetime import datetime, timedelta\n",
    "from langchain_ollama import OllamaLLM"
   ]
  },
  {
   "cell_type": "code",
   "execution_count": 5,
   "metadata": {},
   "outputs": [],
   "source": [
    "def click_button(driver, timeout=10):\n",
    "    try:\n",
    "        # wait for button\n",
    "        button = WebDriverWait(driver, timeout).until(\n",
    "            EC.element_to_be_clickable((By.XPATH, \"//button[contains(text(), 'Pl')]\"))\n",
    "        )\n",
    "        button.click()\n",
    "    except TimeoutException:\n",
    "        pass\n",
    "\n",
    "def get_words(date=''):\n",
    "    # webscraping\n",
    "    options = Options()\n",
    "    options.headless = True\n",
    "\n",
    "    # init driver\n",
    "    driver = webdriver.Chrome(options=options)\n",
    "    driver.get(f'https://www.nytimes.com/games/connections{date}')\n",
    "\n",
    "    click_button(driver)\n",
    "\n",
    "    WebDriverWait(driver, 10).until(\n",
    "        EC.presence_of_all_elements_located((By.XPATH, \"//label[contains(@class, 'Card-module_label')]\"))\n",
    "    )\n",
    "    words_elements = driver.find_elements(By.XPATH, \"//label[contains(@class, 'Card-module_label')]\")\n",
    "\n",
    "    word_list = []\n",
    "    for element in words_elements:\n",
    "        time.sleep(0.5)\n",
    "        if element.text.strip():\n",
    "            word_list.append(element.text.strip())\n",
    "\n",
    "    driver.quit()\n",
    "    return word_list\n"
   ]
  },
  {
   "cell_type": "code",
   "execution_count": 31,
   "metadata": {},
   "outputs": [],
   "source": [
    "wv = api.load('word2vec-google-news-300')"
   ]
  },
  {
   "cell_type": "code",
   "execution_count": null,
   "metadata": {},
   "outputs": [],
   "source": [
    "# to start ollama\n",
    "# OLLAMA_HOST=127.0.0.1:11435 ollama serve\n",
    "\n",
    "words = get_words()\n",
    "words = [word.lower() for word in words]"
   ]
  },
  {
   "cell_type": "code",
   "execution_count": 3,
   "metadata": {},
   "outputs": [],
   "source": [
    "\n",
    "\n",
    "words = ['joker', 'dice', 'chance', 'casino', 'octopus', 'slot machine', 'cube', 'gamble', 'slice', 'bet', 'shiva', 'julienne', 'heat', 'venus de milo', 'risk', 'taxi driver']"
   ]
  },
  {
   "cell_type": "code",
   "execution_count": 7,
   "metadata": {},
   "outputs": [
    {
     "name": "stdout",
     "output_type": "stream",
     "text": [
      "['bat', 'egg', 'love', 'witch', 'pumpkin', 'spider', 'blink', 'job', 'diablo', 'flutter', 'treasure', 'viper', 'scavenger', 'mustang', 'wink', 'darling']\n"
     ]
    }
   ],
   "source": [
    "print(words)"
   ]
  },
  {
   "cell_type": "code",
   "execution_count": 6,
   "metadata": {},
   "outputs": [],
   "source": [
    "prompt = \"Given the following 16 words, order them into 4 groups of 4, based on their abstract relation to each other. for\\\n",
    "                example, group = fluster: faze, rattle, ruffle,throw. group = series of messages: chain, chat, conversation, thread\\\n",
    "                .group = places to lie/sit that move: cradle, hammock, rocker, swing. group = cylinder-shaped things: can, roller, silo, spool. \\\n",
    "                the words are 'joker', 'dice', 'chance', 'casino', 'octopus', 'slot machine', 'cube', 'gamble', 'slice', 'bet', 'shiva', 'julienne', 'heat', 'venus de milo', 'risk', 'taxi driver'\""
   ]
  },
  {
   "cell_type": "code",
   "execution_count": 7,
   "metadata": {},
   "outputs": [
    {
     "name": "stdout",
     "output_type": "stream",
     "text": [
      "Here are the 16 words grouped into 4 categories based on their abstract relation:\n",
      "\n",
      "**Group 1: Things related to Chance and Luck**\n",
      "\n",
      "* Joker\n",
      "* Dice\n",
      "* Chance\n",
      "* Gamble\n",
      "\n",
      "These words all relate to concepts of chance, probability, and risk-taking.\n",
      "\n",
      "**Group 2: Forms of Art or Objects inspired by them**\n",
      "\n",
      "* Octopus (inspired by the art style of H.R. Giger, known for his biomechanical octopuses)\n",
      "* Venus de Milo (a famous ancient Greek statue)\n",
      "* Shiva (referring to the Hindu deity often depicted with multiple arms and faces)\n",
      "* Julienne (likely referring to a French artist or style, but also possibly a type of vegetable cut into thin strips)\n",
      "\n",
      "These words all relate to art, sculpture, or objects inspired by them.\n",
      "\n",
      "**Group 3: Gaming and Casino-related Terms**\n",
      "\n",
      "* Casino\n",
      "* Slot machine\n",
      "* Bet\n",
      "* Chance\n",
      "\n",
      "These words are all related to games of chance, casinos, and betting.\n",
      "\n",
      "**Group 4: Concepts of Risk and Uncertainty**\n",
      "\n",
      "* Heat (as in the heat of a situation or competition)\n",
      "* Cube (referring to a die or a cube-shaped object, but also implying complexity and unpredictability)\n",
      "* Risk\n",
      "* Slice (implying taking risks or cutting into uncertainty)\n",
      "\n",
      "These words all relate to concepts of risk, uncertainty, and danger.\n"
     ]
    }
   ],
   "source": [
    "llm = OllamaLLM(model=\"llama3.1\")\n",
    "\n",
    "response = llm.invoke(prompt)\n",
    "print(response)"
   ]
  },
  {
   "cell_type": "code",
   "execution_count": 32,
   "metadata": {},
   "outputs": [
    {
     "name": "stdout",
     "output_type": "stream",
     "text": [
      "[('job', 'scavenger', 'mustang', 'wink'), ('bat', 'diablo', 'flutter', 'treasure'), ('pumpkin', 'blink', 'viper', 'darling'), ('egg', 'love', 'witch', 'spider')]\n"
     ]
    }
   ],
   "source": [
    "\n",
    "\n",
    "# create list of tuples of 4 words\n",
    "tuples = {}\n",
    "\n",
    "for tuple4 in combinations(words, 4):\n",
    "    sim_sum = 0\n",
    "    for w1, w2 in combinations(tuple4, 2):\n",
    "        sim = 1- wv.similarity(w1, w2)\n",
    "        sim_sum += sim\n",
    "\n",
    "    tuples[tuple4] = sim_sum/4\n",
    "\n",
    "sorted_tuples = dict(sorted(tuples.items(), key=lambda item: item[1], reverse=True))\n",
    "\n",
    "# Initialize final tuples and a set for word membership checking\n",
    "final_tuples = []\n",
    "seen_words = set()\n",
    "\n",
    "for key in sorted_tuples.keys():\n",
    "    # Check if any word in the current tuple already exists in seen_words\n",
    "    if all(word not in seen_words for word in key):\n",
    "        final_tuples.append(key)\n",
    "        seen_words.update(key)  # Add the words of the current tuple to the set\n",
    "\n",
    "# Print the final tuples\n",
    "print(final_tuples)"
   ]
  },
  {
   "cell_type": "code",
   "execution_count": null,
   "metadata": {},
   "outputs": [],
   "source": [
    "d_model = 768       # embd dims\n",
    "layer_norm_eps: float = 1e-5\n",
    "d_vocab: int = 50257        # 50,000 mergres\n",
    "n_ctx = 1024\n",
    "d_head = 64     # d_model / d_head = num_heads\n",
    "d_mlp = 3072\n",
    "n_heads = 12\n",
    "n_layers = 12"
   ]
  },
  {
   "cell_type": "code",
   "execution_count": null,
   "metadata": {},
   "outputs": [],
   "source": [
    "# all we want to do is use the learnt information from training via attention on large amount of data \n",
    "# to select 4 words that belong in the same group (requires context, pop culture, references, jokes etc)"
   ]
  },
  {
   "cell_type": "code",
   "execution_count": null,
   "metadata": {},
   "outputs": [],
   "source": [
    "# attention\n",
    "\n",
    "class MultiHeadAttention():\n",
    "    def __init__():\n",
    "        super().__init__()\n",
    "\n",
    "class SelfAttention()"
   ]
  }
 ],
 "metadata": {
  "kernelspec": {
   "display_name": "venv",
   "language": "python",
   "name": "python3"
  },
  "language_info": {
   "codemirror_mode": {
    "name": "ipython",
    "version": 3
   },
   "file_extension": ".py",
   "mimetype": "text/x-python",
   "name": "python",
   "nbconvert_exporter": "python",
   "pygments_lexer": "ipython3",
   "version": "3.12.3"
  }
 },
 "nbformat": 4,
 "nbformat_minor": 2
}
