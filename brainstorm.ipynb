{
 "cells": [
  {
   "cell_type": "code",
   "execution_count": 11,
   "metadata": {},
   "outputs": [
    {
     "data": {
      "text/plain": [
       "'Certainly! To understand what LangChain is, let’s break it down step by step:\\n\\n1. **Definition and Purpose**: \\n   - LangChain is a framework designed to facilitate the development of applications that leverage language models. It aims to simplify the integration of AI language capabilities into various software solutions.\\n\\n2. **Components**:\\n   - The framework provides tools and components for connecting language model outputs with other systems, enabling seamless interaction between different parts of an application.\\n   - These components might include interfaces for input/output processing, connectors for databases or APIs, and modules to handle specific tasks like question-answering or summarization.\\n\\n3. **Functionality**:\\n   - LangChain allows developers to create chains of language model operations, enabling complex workflows that can involve multiple steps, such as data retrieval, processing, and response generation.\\n   - It supports customization, allowing users to tailor the behavior of language models to suit specific application needs.\\n\\n4. **Use Cases**:\\n   - Common use cases include building chatbots, virtual assistants, automated customer support systems, and any application requiring natural language understanding or generation.\\n\\n5. **Flexibility and Scalability**:\\n   - LangChain is designed to be flexible and scalable, supporting a wide range of language models and allowing for easy integration with other technologies.\\n\\n6. **Community and Support**:\\n   - As an open-source project, LangChain often has a community of developers contributing to its development and documentation, providing support and resources for users.\\n\\nIn summary, LangChain is a versatile framework that empowers developers to build sophisticated language-driven applications by simplifying the integration and orchestration of AI language models.'"
      ]
     },
     "execution_count": 11,
     "metadata": {},
     "output_type": "execute_result"
    }
   ],
   "source": [
    "from langchain_core.prompts import ChatPromptTemplate\n",
    "from langchain_ollama.llms import OllamaLLM\n",
    "\n",
    "template = \"\"\"Question: {question}\n",
    "Answer: Let's think step by step.\"\"\"\n",
    "\n",
    "prompt = ChatPromptTemplate.from_template(template)\n",
    "\n",
    "model = 'vanilj/Phi-4'\n",
    "llm = OllamaLLM(model=model, device='gpu')\n",
    "\n",
    "chain = prompt | llm\n",
    "\n",
    "chain.invoke({\"question\": \"What is LangChain?\"})"
   ]
  },
  {
   "cell_type": "code",
   "execution_count": null,
   "metadata": {},
   "outputs": [],
   "source": []
  },
  {
   "cell_type": "code",
   "execution_count": null,
   "metadata": {},
   "outputs": [],
   "source": [
    "# evaluate on dataset\n"
   ]
  }
 ],
 "metadata": {
  "kernelspec": {
   "display_name": "venv",
   "language": "python",
   "name": "python3"
  },
  "language_info": {
   "codemirror_mode": {
    "name": "ipython",
    "version": 3
   },
   "file_extension": ".py",
   "mimetype": "text/x-python",
   "name": "python",
   "nbconvert_exporter": "python",
   "pygments_lexer": "ipython3",
   "version": "3.12.3"
  }
 },
 "nbformat": 4,
 "nbformat_minor": 2
}
